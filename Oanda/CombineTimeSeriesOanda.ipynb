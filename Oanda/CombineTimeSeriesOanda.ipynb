{
 "cells": [
  {
   "cell_type": "code",
   "execution_count": 24,
   "metadata": {},
   "outputs": [],
   "source": [
    "import oandapy\n",
    "import pandas as pd\n",
    "import numpy as np\n",
    "import glob\n",
    "import pdb"
   ]
  },
  {
   "cell_type": "code",
   "execution_count": 46,
   "metadata": {
    "scrolled": false
   },
   "outputs": [],
   "source": [
    "df_list = []\n",
    "data_frame = pd.DataFrame()\n",
    "\n",
    "for f in glob.glob('**_Rates'):\n",
    "    file_path = f \n",
    "    df = (pd.read_csv(file_path)\n",
    "            .drop(['Unnamed: 0', 'complete'], axis=1)\n",
    "            .drop_duplicates()\n",
    "            .assign(cross=f[:7])) # create column with cross name from filename\n",
    "    df_list.append(df)\n",
    "\n",
    "data_frame.append(df_list, ignore_index=True)"
   ]
  }
 ],
 "metadata": {
  "kernelspec": {
   "display_name": "Python [default]",
   "language": "python",
   "name": "python3"
  },
  "language_info": {
   "codemirror_mode": {
    "name": "ipython",
    "version": 3
   },
   "file_extension": ".py",
   "mimetype": "text/x-python",
   "name": "python",
   "nbconvert_exporter": "python",
   "pygments_lexer": "ipython3",
   "version": "3.6.2"
  }
 },
 "nbformat": 4,
 "nbformat_minor": 2
}
