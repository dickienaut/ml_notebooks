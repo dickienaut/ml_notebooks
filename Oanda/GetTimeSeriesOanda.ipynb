{
 "cells": [
  {
   "cell_type": "code",
   "execution_count": null,
   "metadata": {},
   "outputs": [],
   "source": [
    "import oandapy\n",
    "import pandas as pd\n",
    "import numpy as np\n",
    "import pdb"
   ]
  },
  {
   "cell_type": "code",
   "execution_count": null,
   "metadata": {},
   "outputs": [],
   "source": [
    "token = '81d2f4f4e139429f8b9be52c178a3567-d87bd1cb02bb0b22b4a6047a0c004c81'\n",
    "account_id = 988432\n",
    "\n",
    "oanda = oandapy.API(environment=\"practice\", access_token=token)"
   ]
  },
  {
   "cell_type": "code",
   "execution_count": null,
   "metadata": {},
   "outputs": [],
   "source": [
    "oanda.get_positions(account_id=988432)"
   ]
  },
  {
   "cell_type": "code",
   "execution_count": null,
   "metadata": {},
   "outputs": [],
   "source": []
  },
  {
   "cell_type": "code",
   "execution_count": null,
   "metadata": {
    "scrolled": false
   },
   "outputs": [],
   "source": []
  },
  {
   "cell_type": "code",
   "execution_count": null,
   "metadata": {
    "scrolled": false
   },
   "outputs": [],
   "source": []
  },
  {
   "cell_type": "code",
   "execution_count": null,
   "metadata": {},
   "outputs": [],
   "source": [
    "ins = oanda.get_instruments(account_id=account_id)['instruments']"
   ]
  },
  {
   "cell_type": "code",
   "execution_count": null,
   "metadata": {
    "scrolled": false
   },
   "outputs": [],
   "source": [
    "instruments = []\n",
    "for i in ins:\n",
    "    instruments.append(i['instrument'])\n",
    "len(instruments)"
   ]
  },
  {
   "cell_type": "code",
   "execution_count": null,
   "metadata": {},
   "outputs": [],
   "source": [
    "start_date = '2008-01-01'\n",
    "end_date = '2017-10-30'\n",
    "date_range = pd.date_range(start=start_date, end=end_date)"
   ]
  },
  {
   "cell_type": "code",
   "execution_count": null,
   "metadata": {
    "scrolled": false
   },
   "outputs": [],
   "source": [
    "for ticker in instruments:\n",
    "    df = pd.DataFrame()\n",
    "    print('Retrieving packages for %s' % ticker)\n",
    "    for i in range(0, len(date_range) - 1):\n",
    "        d1 = str(date_range[i]).replace(' ', 'T')\n",
    "        d2 = str(date_range[i + 1]).replace(' ', 'T')\n",
    "        try:\n",
    "            data = oanda.get_history(instrument=ticker, start=d1, end=d2, granularity='D')\n",
    "            df = df.append(pd.DataFrame(data['candles']))\n",
    "        except:\n",
    "            pass\n",
    "        if i % 250 == 0:\n",
    "            print('%02d' % i)\n",
    "#         df.reset_index(inplace=True)\n",
    "    df.to_csv(ticker+'_Daily_Rates')"
   ]
  },
  {
   "cell_type": "code",
   "execution_count": null,
   "metadata": {},
   "outputs": [],
   "source": [
    "index = pd.DatetimeIndex(df['time'], tz='UTC')\n",
    "df.index = index\n",
    "df.drop_duplicates(inplace=True)\n",
    "len(df)"
   ]
  },
  {
   "cell_type": "code",
   "execution_count": null,
   "metadata": {},
   "outputs": [],
   "source": []
  },
  {
   "cell_type": "code",
   "execution_count": null,
   "metadata": {},
   "outputs": [],
   "source": []
  },
  {
   "cell_type": "code",
   "execution_count": null,
   "metadata": {},
   "outputs": [],
   "source": []
  }
 ],
 "metadata": {
  "kernelspec": {
   "display_name": "Python [default]",
   "language": "python",
   "name": "python3"
  },
  "language_info": {
   "codemirror_mode": {
    "name": "ipython",
    "version": 3
   },
   "file_extension": ".py",
   "mimetype": "text/x-python",
   "name": "python",
   "nbconvert_exporter": "python",
   "pygments_lexer": "ipython3",
   "version": "3.6.2"
  }
 },
 "nbformat": 4,
 "nbformat_minor": 2
}
