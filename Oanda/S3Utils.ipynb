{
 "cells": [
  {
   "cell_type": "code",
   "execution_count": 1,
   "metadata": {},
   "outputs": [],
   "source": [
    "AWS_KEY = \"your_aws_key\"\n",
    "AWS_SECRET = \"your_aws_secret\""
   ]
  },
  {
   "cell_type": "code",
   "execution_count": 3,
   "metadata": {},
   "outputs": [],
   "source": [
    "import boto3\n",
    "from multiprocessing.pool import ThreadPool\n",
    "import glob"
   ]
  },
  {
   "cell_type": "code",
   "execution_count": 4,
   "metadata": {},
   "outputs": [],
   "source": [
    "s3 = boto3.resource('s3')"
   ]
  },
  {
   "cell_type": "code",
   "execution_count": 16,
   "metadata": {},
   "outputs": [
    {
     "name": "stdout",
     "output_type": "stream",
     "text": [
      "Oanda\n",
      "beast1\n",
      "elasticbeanstalk-us-east-1-478022602006\n",
      "riderscrape\n"
     ]
    }
   ],
   "source": [
    "# list all buckets\n",
    "for bucket in s3.buckets.all():\n",
    "    print(bucket.name)"
   ]
  },
  {
   "cell_type": "code",
   "execution_count": 12,
   "metadata": {},
   "outputs": [],
   "source": [
    "s3c = boto3.client('s3')"
   ]
  },
  {
   "cell_type": "code",
   "execution_count": 15,
   "metadata": {},
   "outputs": [
    {
     "data": {
      "text/plain": [
       "{'Location': '/Oanda',\n",
       " 'ResponseMetadata': {'HTTPHeaders': {'content-length': '0',\n",
       "   'date': 'Tue, 31 Oct 2017 16:38:57 GMT',\n",
       "   'location': '/Oanda',\n",
       "   'server': 'AmazonS3',\n",
       "   'x-amz-id-2': 'hOTawcB+Zrlu865W9lQytPJqtc94r0h2CwfUybsXpVkhekuubar5jX8HI+DwvCBZTaBAY8Kncsc=',\n",
       "   'x-amz-request-id': 'B6FEA32B4E178AC6'},\n",
       "  'HTTPStatusCode': 200,\n",
       "  'HostId': 'hOTawcB+Zrlu865W9lQytPJqtc94r0h2CwfUybsXpVkhekuubar5jX8HI+DwvCBZTaBAY8Kncsc=',\n",
       "  'RequestId': 'B6FEA32B4E178AC6',\n",
       "  'RetryAttempts': 0}}"
      ]
     },
     "execution_count": 15,
     "metadata": {},
     "output_type": "execute_result"
    }
   ],
   "source": [
    "# create a bucket\n",
    "s3c.create_bucket(Bucket='Oanda')"
   ]
  },
  {
   "cell_type": "code",
   "execution_count": 20,
   "metadata": {},
   "outputs": [],
   "source": [
    "rates = glob.glob('**Daily_Rates')"
   ]
  },
  {
   "cell_type": "code",
   "execution_count": 21,
   "metadata": {},
   "outputs": [],
   "source": [
    "for rate in rates:\n",
    "    s3c.upload_file(rate, 'Oanda', rate + '.csv')"
   ]
  },
  {
   "cell_type": "code",
   "execution_count": null,
   "metadata": {},
   "outputs": [],
   "source": []
  }
 ],
 "metadata": {
  "kernelspec": {
   "display_name": "Python [default]",
   "language": "python",
   "name": "python3"
  },
  "language_info": {
   "codemirror_mode": {
    "name": "ipython",
    "version": 3
   },
   "file_extension": ".py",
   "mimetype": "text/x-python",
   "name": "python",
   "nbconvert_exporter": "python",
   "pygments_lexer": "ipython3",
   "version": "3.6.2"
  }
 },
 "nbformat": 4,
 "nbformat_minor": 2
}
